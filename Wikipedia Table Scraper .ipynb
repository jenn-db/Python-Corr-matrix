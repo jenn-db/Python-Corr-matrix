{
 "cells": [
  {
   "cell_type": "code",
   "execution_count": 1,
   "id": "0f03e80b",
   "metadata": {},
   "outputs": [],
   "source": [
    "# Importing the libraries\n",
    "from bs4 import BeautifulSoup\n",
    "import requests"
   ]
  },
  {
   "cell_type": "code",
   "execution_count": 2,
   "id": "bb3167a0",
   "metadata": {},
   "outputs": [],
   "source": [
    "# Connecting to the website\n",
    "\n",
    "URL ='https://en.wikipedia.org/wiki/Comparison_of_relational_database_management_systems'\n",
    "\n",
    "headers ={\"User-Agent\": \"Mozilla/5.0 (Macintosh; Intel Mac OS X 10_15_7) AppleWebKit/537.36 (KHTML, like Gecko) Chrome/112.0.0.0 Safari/537.36\"}\n",
    "\n",
    "page = requests.get(URL,headers=headers)\n",
    "\n",
    "soup1 = BeautifulSoup(page.content, \"html.parser\")\n",
    "\n",
    "soup2 = BeautifulSoup(soup1.prettify(), 'html.parser')\n",
    "\n",
    "title = soup2.find(id=\"firstHeading\").get_text()\n",
    "\n",
    "tables = soup2.find_all('table', {'class': 'wikitable sortable'})\n",
    "\n",
    "table = tables[3]  # Select the first table"
   ]
  },
  {
   "cell_type": "code",
   "execution_count": 3,
   "id": "ca0a34fe",
   "metadata": {},
   "outputs": [],
   "source": [
    "# looping through the rows to get the data\n",
    "rows = table.find_all('tr')\n",
    "data = []\n",
    "\n",
    "for row in rows:\n",
    "    cells = row.find_all('td')\n",
    "    if len(cells) > 0:\n",
    "        feature = cells[0].get_text().strip()\n",
    "        AROS = cells[1].get_text().strip()\n",
    "        FreeBSD = cells[2].get_text().strip()\n",
    "        Linux_based = cells[3].get_text().strip()\n",
    "        HP_UX = cells[4].get_text().strip()\n",
    "        OpenVMS = cells[5].get_text().strip()\n",
    "        macOS = cells[6].get_text().strip()\n",
    "        Solaris = cells[7].get_text().strip()\n",
    "        Windows_cmd = cells[8].get_text().strip()\n",
    "        Windows_PowerShell = cells[9].get_text().strip()\n",
    "        data.append([feature, AROS, FreeBSD, Linux_based, HP_UX, OpenVMS, macOS,Solaris,Windows_cmd,Windows_PowerShell])"
   ]
  },
  {
   "cell_type": "code",
   "execution_count": 4,
   "id": "a28d5e1a",
   "metadata": {},
   "outputs": [],
   "source": [
    "# Saving the data to csv\n",
    "import csv\n",
    "\n",
    "with open('Commands.csv', mode='w') as file:\n",
    "    writer = csv.writer(file)\n",
    "    writer.writerow(['Feature', 'AROS', 'FreeBSD', 'Linux-based', 'HP-UX', 'OpenVMS', 'macOS', 'Solaris', 'Windows cmd', 'Windows PowerShell'])\n",
    "    for row in data:\n",
    "        writer.writerow(row)"
   ]
  }
 ],
 "metadata": {
  "kernelspec": {
   "display_name": "Python 3 (ipykernel)",
   "language": "python",
   "name": "python3"
  },
  "language_info": {
   "codemirror_mode": {
    "name": "ipython",
    "version": 3
   },
   "file_extension": ".py",
   "mimetype": "text/x-python",
   "name": "python",
   "nbconvert_exporter": "python",
   "pygments_lexer": "ipython3",
   "version": "3.9.13"
  }
 },
 "nbformat": 4,
 "nbformat_minor": 5
}
